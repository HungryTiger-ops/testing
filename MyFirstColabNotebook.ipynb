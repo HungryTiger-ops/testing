{
  "nbformat": 4,
  "nbformat_minor": 0,
  "metadata": {
    "colab": {
      "name": "MyFirstColabNotebook.ipynb",
      "provenance": [],
      "authorship_tag": "ABX9TyMjPXWK26U54m8bkEgPT3Sj",
      "include_colab_link": true
    },
    "kernelspec": {
      "name": "python3",
      "display_name": "Python 3"
    }
  },
  "cells": [
    {
      "cell_type": "markdown",
      "metadata": {
        "id": "view-in-github",
        "colab_type": "text"
      },
      "source": [
        "<a href=\"https://colab.research.google.com/github/HungryTiger-ops/testing/blob/master/MyFirstColabNotebook.ipynb\" target=\"_parent\"><img src=\"https://colab.research.google.com/assets/colab-badge.svg\" alt=\"Open In Colab\"/></a>"
      ]
    },
    {
      "cell_type": "code",
      "metadata": {
        "id": "i97KGxMB1ntu",
        "colab_type": "code",
        "colab": {
          "base_uri": "https://localhost:8080/",
          "height": 34
        },
        "outputId": "7e2d7f8b-d45f-4635-f9b6-a766ad70a0aa"
      },
      "source": [
        "import time\n",
        "print(time.ctime())\n"
      ],
      "execution_count": null,
      "outputs": [
        {
          "output_type": "stream",
          "text": [
            "Wed Sep  9 12:32:03 2020\n"
          ],
          "name": "stdout"
        }
      ]
    },
    {
      "cell_type": "code",
      "metadata": {
        "id": "gwDgOdaG2HWt",
        "colab_type": "code",
        "colab": {
          "base_uri": "https://localhost:8080/",
          "height": 34
        },
        "outputId": "d88bc103-cd57-44fd-a38f-70323de85103"
      },
      "source": [
        "time.sleep(5)\n",
        "print(time.ctime())"
      ],
      "execution_count": null,
      "outputs": [
        {
          "output_type": "stream",
          "text": [
            "Wed Sep  9 12:32:08 2020\n"
          ],
          "name": "stdout"
        }
      ]
    },
    {
      "cell_type": "markdown",
      "metadata": {
        "id": "JiN19qtW3Ksb",
        "colab_type": "text"
      },
      "source": [
        "This is **bold**\n",
        "This is *italic*\n",
        "This is ~strikethrough~"
      ]
    },
    {
      "cell_type": "markdown",
      "metadata": {
        "id": "lbcC2GSQ3V90",
        "colab_type": "text"
      },
      "source": [
        "$\\sqrt{3x-1}+(1+x)^2$\n",
        "\n"
      ]
    },
    {
      "cell_type": "markdown",
      "metadata": {
        "id": "X6MypnZ43rIb",
        "colab_type": "text"
      },
      "source": [
        "$e^x = \\sum_{i = 0}^\\infty \\frac{1}{i!}xî$\n"
      ]
    },
    {
      "cell_type": "markdown",
      "metadata": {
        "id": "OJRJRmGg38u7",
        "colab_type": "text"
      },
      "source": [
        "Constraints are\n",
        "  - $3x_1 + 6x_2 + x_3 =< 28$\n",
        "  - $7x_1 + 3x_2 + 2x_3 =< 37$\n",
        "  - $4x_1 + 5x_2 + 2x_3 =< 19$\n",
        "  - $x_1,x_2,x_3 >=0$\n",
        "\n",
        "The trial vector is calculated as follows:\n",
        "- $u_i(t) = x_i(t) + \\beta(\\hat{x}(t) - w_i(t)) + \\beta \\sum_{k = 1}^{n_v}(x_{i1,k}(t) - x_{i2,k}(t))$\n",
        "\n",
        "$(x_1, x_2) = 20 + e - 20exp(-0.2 \\sqrt {\\frac {1}{n} (x_1^2 + x_2^2)}) - exp (\\frac {1}{n}(cos(2\\pi x_1) + cos(2\\pi x_2))$\n",
        "\n",
        "$x ∈ [-5,5]$\n",
        ">$A_{m,n} = \n",
        "\\begin{pmatrix}\n",
        "a_{1,1} > a_{1,2} >\\cdots > a_{1,n} \\\\\n",
        "a_{2,1} > a_{2,2} > \\cdots > a_{2,n} \\\\\n",
        "\\vdots > \\vdots > \\ddots > \\vdots \\\\\n",
        "a_{m,1} > a_{m,2} > \\cdots > a_{m,n}\n",
        "\\end{pmatrix}$\n"
      ]
    }
  ]
}